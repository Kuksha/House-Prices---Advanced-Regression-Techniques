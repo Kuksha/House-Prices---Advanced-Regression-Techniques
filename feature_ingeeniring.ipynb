{
 "cells": [
  {
   "cell_type": "code",
   "execution_count": 5,
   "id": "6165157f",
   "metadata": {
    "ExecuteTime": {
     "end_time": "2021-05-01T15:57:45.766195Z",
     "start_time": "2021-05-01T15:57:45.750200Z"
    }
   },
   "outputs": [],
   "source": [
    "import pandas as pd\n",
    "import numpy as np\n",
    "import seaborn as sns\n",
    "from tqdm import tqdm\n",
    "\n",
    "from sklearn import metrics\n",
    "from sklearn.ensemble import RandomForestRegressor\n",
    "from sklearn.linear_model import LinearRegression, SGDRegressor\n",
    "from sklearn.model_selection import cross_val_score, GridSearchCV, StratifiedKFold\n",
    "from sklearn.feature_selection import RFECV\n",
    "from sklearn.pipeline import Pipeline, TransformerMixin\n",
    "from matplotlib import pyplot as plt\n",
    "import warnings\n",
    "warnings.filterwarnings('ignore')"
   ]
  },
  {
   "cell_type": "code",
   "execution_count": 6,
   "id": "df3571d4",
   "metadata": {
    "ExecuteTime": {
     "end_time": "2021-05-01T15:57:46.158082Z",
     "start_time": "2021-05-01T15:57:46.113546Z"
    }
   },
   "outputs": [
    {
     "data": {
      "text/plain": [
       "(1460, 80)"
      ]
     },
     "execution_count": 6,
     "metadata": {},
     "output_type": "execute_result"
    }
   ],
   "source": [
    "test = pd.read_csv(\"test.csv\", index_col = 0)\n",
    "train = pd.read_csv('train.csv', index_col = 0)\n",
    "train.shape"
   ]
  },
  {
   "cell_type": "code",
   "execution_count": 7,
   "id": "fbf3a6a0",
   "metadata": {
    "ExecuteTime": {
     "end_time": "2021-05-01T15:57:46.488894Z",
     "start_time": "2021-05-01T15:57:46.484893Z"
    }
   },
   "outputs": [],
   "source": [
    "X_train, y_train = train.drop(\"SalePrice\", axis = 1), train[\"SalePrice\"]"
   ]
  },
  {
   "cell_type": "markdown",
   "id": "8c3a1c82",
   "metadata": {},
   "source": [
    "Удалим малоинформативные признаки"
   ]
  },
  {
   "cell_type": "code",
   "execution_count": 8,
   "id": "a4bccd12",
   "metadata": {
    "ExecuteTime": {
     "end_time": "2021-05-01T15:57:47.104271Z",
     "start_time": "2021-05-01T15:57:47.093268Z"
    }
   },
   "outputs": [],
   "source": [
    "X_train.drop([ 'PoolQC', 'MiscFeature', 'Alley', 'LandSlope',\n",
    "              'Condition2', 'RoofMatl', 'Heating',\n",
    "              'Electrical', 'Functional', 'GarageCond',\n",
    "              'PavedDrive', 'MiscVal', 'PoolArea', 'ScreenPorch'],\n",
    "             axis = 1, inplace = True)"
   ]
  },
  {
   "cell_type": "markdown",
   "id": "5a6a71da",
   "metadata": {},
   "source": [
    "Получим списки признаков по типу данных"
   ]
  },
  {
   "cell_type": "code",
   "execution_count": 9,
   "id": "d3b0a782",
   "metadata": {
    "ExecuteTime": {
     "end_time": "2021-05-01T15:57:48.082290Z",
     "start_time": "2021-05-01T15:57:48.076289Z"
    }
   },
   "outputs": [],
   "source": [
    "categorical_cols = [x for x in X_train.columns if X_train[x].dtype == object]\n",
    "numeric_cols = [x for x in X_train.columns if x not in categorical_cols]"
   ]
  },
  {
   "cell_type": "markdown",
   "id": "f5608f52",
   "metadata": {
    "ExecuteTime": {
     "end_time": "2021-05-01T15:57:47.104271Z",
     "start_time": "2021-05-01T15:57:47.093268Z"
    }
   },
   "source": [
    "Сначала построим отдельно по модели для категориальных и численных признаков"
   ]
  },
  {
   "cell_type": "code",
   "execution_count": 10,
   "id": "b6970d7e",
   "metadata": {
    "ExecuteTime": {
     "end_time": "2021-05-01T15:57:49.144089Z",
     "start_time": "2021-05-01T15:57:49.124081Z"
    }
   },
   "outputs": [],
   "source": [
    "X_numeric = X_train[numeric_cols]\n",
    "X_categorical = X_train[categorical_cols]\n",
    "\n",
    "test_num = test[numeric_cols]\n",
    "test_cat = test[categorical_cols]"
   ]
  },
  {
   "cell_type": "code",
   "execution_count": 11,
   "id": "4efc6cf9",
   "metadata": {
    "ExecuteTime": {
     "end_time": "2021-05-01T15:57:49.611064Z",
     "start_time": "2021-05-01T15:57:49.597081Z"
    }
   },
   "outputs": [],
   "source": [
    "X_categorical.fillna('nan', inplace = True)\n",
    "test_cat.fillna('nan', inplace = True)"
   ]
  },
  {
   "cell_type": "code",
   "execution_count": 13,
   "id": "a04ee67b",
   "metadata": {
    "ExecuteTime": {
     "end_time": "2021-05-01T16:03:29.931221Z",
     "start_time": "2021-05-01T16:03:29.925219Z"
    }
   },
   "outputs": [
    {
     "data": {
      "text/plain": [
       "1"
      ]
     },
     "execution_count": 13,
     "metadata": {},
     "output_type": "execute_result"
    }
   ],
   "source": []
  },
  {
   "cell_type": "code",
   "execution_count": null,
   "id": "3c5a2d29",
   "metadata": {},
   "outputs": [],
   "source": []
  }
 ],
 "metadata": {
  "kernelspec": {
   "display_name": "Python 3",
   "language": "python",
   "name": "python3"
  },
  "language_info": {
   "codemirror_mode": {
    "name": "ipython",
    "version": 3
   },
   "file_extension": ".py",
   "mimetype": "text/x-python",
   "name": "python",
   "nbconvert_exporter": "python",
   "pygments_lexer": "ipython3",
   "version": "3.8.3"
  },
  "toc": {
   "base_numbering": 1,
   "nav_menu": {},
   "number_sections": true,
   "sideBar": true,
   "skip_h1_title": false,
   "title_cell": "Table of Contents",
   "title_sidebar": "Contents",
   "toc_cell": false,
   "toc_position": {},
   "toc_section_display": true,
   "toc_window_display": false
  }
 },
 "nbformat": 4,
 "nbformat_minor": 5
}
