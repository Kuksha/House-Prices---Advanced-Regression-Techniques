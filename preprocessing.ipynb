{
 "cells": [
  {
   "cell_type": "markdown",
   "id": "1e291eea",
   "metadata": {},
   "source": [
    "####   Загрузка данных"
   ]
  },
  {
   "cell_type": "code",
   "execution_count": 216,
   "id": "bc34f9bf",
   "metadata": {
    "ExecuteTime": {
     "end_time": "2021-05-29T12:58:29.467393Z",
     "start_time": "2021-05-29T12:58:29.455391Z"
    }
   },
   "outputs": [],
   "source": [
    "import numpy as np \n",
    "import pandas as pd \n",
    "from matplotlib import pyplot as plt\n",
    "import seaborn as sns\n",
    "from sklearn.preprocessing import LabelEncoder\n",
    "from scipy.stats import skew\n",
    "from sklearn.preprocessing import StandardScaler"
   ]
  },
  {
   "cell_type": "code",
   "execution_count": 217,
   "id": "8a2cd6d2",
   "metadata": {
    "ExecuteTime": {
     "end_time": "2021-05-29T12:58:29.482397Z",
     "start_time": "2021-05-29T12:58:29.468394Z"
    }
   },
   "outputs": [],
   "source": [
    "from sklearn.metrics import mean_squared_error\n",
    "def rmse(y_true, y_pred):\n",
    "    return mean_squared_error(y_true, y_pred)"
   ]
  },
  {
   "cell_type": "code",
   "execution_count": 218,
   "id": "bd4749e9",
   "metadata": {
    "ExecuteTime": {
     "end_time": "2021-05-29T12:58:29.529408Z",
     "start_time": "2021-05-29T12:58:29.483397Z"
    }
   },
   "outputs": [],
   "source": [
    "train_df = pd.read_csv(\"data/train.csv\", index_col = \"Id\")\n",
    "test_df = pd.read_csv('data/test.csv', index_col = \"Id\")"
   ]
  },
  {
   "cell_type": "markdown",
   "id": "92fa8067",
   "metadata": {},
   "source": [
    "Очистим выборку от выбросов по наиболее значимому признаку - 'GrLivArea' (Жилая площадь)"
   ]
  },
  {
   "cell_type": "code",
   "execution_count": 219,
   "id": "9342e20f",
   "metadata": {
    "ExecuteTime": {
     "end_time": "2021-05-29T12:58:29.544706Z",
     "start_time": "2021-05-29T12:58:29.530408Z"
    }
   },
   "outputs": [],
   "source": [
    "train_df = train_df[train_df['GrLivArea'] <= 4000]\n",
    "test_df = test_df"
   ]
  },
  {
   "cell_type": "code",
   "execution_count": null,
   "id": "163ede21",
   "metadata": {},
   "outputs": [],
   "source": []
  },
  {
   "cell_type": "markdown",
   "id": "08222639",
   "metadata": {},
   "source": [
    "Приведём пропуски данных к единому виду"
   ]
  },
  {
   "cell_type": "code",
   "execution_count": 220,
   "id": "54b39927",
   "metadata": {
    "ExecuteTime": {
     "end_time": "2021-05-29T12:58:29.639875Z",
     "start_time": "2021-05-29T12:58:29.545706Z"
    }
   },
   "outputs": [],
   "source": [
    "for c in train_df.columns:\n",
    "    train_df[c] = train_df[c].apply(lambda x: None if x is np.nan else x)\n",
    "for c in test_df.columns:   \n",
    "    test_df[c] = test_df[c].apply(lambda x: None if x is np.nan else x)"
   ]
  },
  {
   "cell_type": "markdown",
   "id": "21df5d8a",
   "metadata": {},
   "source": [
    "Объявим функции преобразуюущие данные"
   ]
  },
  {
   "cell_type": "code",
   "execution_count": 221,
   "id": "bdfa40a3",
   "metadata": {
    "ExecuteTime": {
     "end_time": "2021-05-29T12:58:29.655879Z",
     "start_time": "2021-05-29T12:58:29.640876Z"
    }
   },
   "outputs": [],
   "source": [
    "from sklearn.preprocessing import LabelEncoder\n",
    "le = LabelEncoder()\n",
    "\n",
    "def factorize(df, factor_df, column, fill_na=None):\n",
    "    factor_df[column] = df[column].apply(str).fillna(\"None\")\n",
    "    if fill_na is not None:\n",
    "        factor_df[column].fillna(fill_na, inplace=True)\n",
    "    le.fit(factor_df[column].unique())\n",
    "    factor_df[column] = le.transform(factor_df[column])\n",
    "    return factor_df\n",
    "\n",
    "\n",
    "def onehot(onehot_df, df, column_name, fill_na, drop_name):\n",
    "    onehot_df[column_name] = df[column_name]\n",
    "    if fill_na is not None:\n",
    "        onehot_df[column_name].fillna(fill_na, inplace=True)\n",
    "\n",
    "    dummies = pd.get_dummies(onehot_df[column_name], prefix=\"_\" + column_name)\n",
    "    \n",
    "    # Dropping one of the columns actually made the results slightly worse.\n",
    "    # if drop_name is not None:\n",
    "    #     dummies.drop([\"_\" + column_name + \"_\" + drop_name], axis=1, inplace=True)\n",
    "\n",
    "    onehot_df = onehot_df.join(dummies)\n",
    "    onehot_df = onehot_df.drop([column_name], axis=1)\n",
    "    return onehot_df"
   ]
  },
  {
   "cell_type": "code",
   "execution_count": 222,
   "id": "11d7e1a5",
   "metadata": {
    "ExecuteTime": {
     "end_time": "2021-05-29T12:58:29.671882Z",
     "start_time": "2021-05-29T12:58:29.656879Z"
    },
    "scrolled": true
   },
   "outputs": [
    {
     "data": {
      "text/plain": [
       "Id\n",
       "1       60\n",
       "2       20\n",
       "3       60\n",
       "4       70\n",
       "5       60\n",
       "        ..\n",
       "1456    60\n",
       "1457    20\n",
       "1458    70\n",
       "1459    20\n",
       "1460    20\n",
       "Name: MSSubClass, Length: 1456, dtype: int64"
      ]
     },
     "execution_count": 222,
     "metadata": {},
     "output_type": "execute_result"
    }
   ],
   "source": [
    "train_df[\"MSSubClass\"]"
   ]
  },
  {
   "cell_type": "code",
   "execution_count": 223,
   "id": "50c70aa8",
   "metadata": {
    "ExecuteTime": {
     "end_time": "2021-05-29T12:58:29.687888Z",
     "start_time": "2021-05-29T12:58:29.672883Z"
    }
   },
   "outputs": [
    {
     "data": {
      "text/plain": [
       "Id\n",
       "1461    RH\n",
       "1462    RL\n",
       "1463    RL\n",
       "1464    RL\n",
       "1465    RL\n",
       "        ..\n",
       "2915    RM\n",
       "2916    RM\n",
       "2917    RL\n",
       "2918    RL\n",
       "2919    RL\n",
       "Name: MSZoning, Length: 1459, dtype: object"
      ]
     },
     "execution_count": 223,
     "metadata": {},
     "output_type": "execute_result"
    }
   ],
   "source": [
    "test_df[\"MSZoning\"]"
   ]
  },
  {
   "cell_type": "code",
   "execution_count": 224,
   "id": "7e3f0670",
   "metadata": {
    "ExecuteTime": {
     "end_time": "2021-05-29T12:58:29.719895Z",
     "start_time": "2021-05-29T12:58:29.689889Z"
    }
   },
   "outputs": [],
   "source": [
    "def generate_features(df):\n",
    "    \n",
    "    all_df = pd.DataFrame(index = df.index)  \n",
    "    all_df[\"LotArea\"] = df[\"LotArea\"]\n",
    "\n",
    "    all_df[\"MasVnrArea\"] = df[\"MasVnrArea\"].fillna(0)\n",
    "    all_df[\"BsmtFinSF1\"] = df[\"BsmtFinSF1\"].fillna(0)\n",
    "    all_df[\"BsmtFinSF2\"] = df[\"BsmtFinSF2\"].fillna(0)\n",
    "    all_df[\"BsmtUnfSF\"] = df[\"BsmtUnfSF\"].fillna(0)\n",
    "    all_df[\"TotalBsmtSF\"] = df[\"TotalBsmtSF\"].fillna(0)\n",
    "\n",
    "    all_df[\"1stFlrSF\"] = df[\"1stFlrSF\"].fillna(0)\n",
    "    all_df[\"2ndFlrSF\"] = df[\"2ndFlrSF\"].fillna(0)\n",
    "    all_df[\"GrLivArea\"] = df[\"GrLivArea\"].fillna(0)\n",
    "    all_df[\"GarageArea\"] = df[\"GarageArea\"].fillna(0)\n",
    "\n",
    "    all_df[\"WoodDeckSF\"] = df[\"WoodDeckSF\"]\n",
    "    all_df[\"OpenPorchSF\"] = df[\"OpenPorchSF\"]\n",
    "    all_df[\"EnclosedPorch\"] = df[\"EnclosedPorch\"]\n",
    "    all_df[\"3SsnPorch\"] = df[\"3SsnPorch\"]\n",
    "    all_df[\"ScreenPorch\"] = df[\"ScreenPorch\"]\n",
    "    \n",
    "    all_df[\"BsmtFullBath\"] = df[\"BsmtFullBath\"].fillna(0)\n",
    "    all_df[\"BsmtHalfBath\"] = df[\"BsmtHalfBath\"].fillna(0)\n",
    "    all_df[\"FullBath\"] = df[\"FullBath\"] \n",
    "    all_df[\"HalfBath\"] = df[\"HalfBath\"] \n",
    "    all_df[\"BedroomAbvGr\"] = df[\"BedroomAbvGr\"] \n",
    "    all_df[\"KitchenAbvGr\"] = df[\"KitchenAbvGr\"] \n",
    "    all_df[\"TotRmsAbvGrd\"] = df[\"TotRmsAbvGrd\"] \n",
    "    all_df[\"Fireplaces\"] = df[\"Fireplaces\"] \n",
    "\n",
    "    all_df[\"GarageCars\"] = df[\"GarageCars\"].fillna(0)\n",
    "    all_df[\"CentralAir\"] = (df[\"CentralAir\"] == \"Y\") * 1.0\n",
    "    all_df[\"PoolArea\"] = df[\"PoolArea\"].fillna(0)\n",
    "    all_df[\"OverallQual\"] = df[\"OverallQual\"]\n",
    "    all_df[\"OverallCond\"] = df[\"OverallCond\"]\n",
    "    all_df[\"LotFrontage\"] = df[\"LotFrontage\"]   \n",
    "    \n",
    "    lot_frontage_by_neighborhood = train_df[\"LotFrontage\"].groupby(train_df[\"Neighborhood\"])\n",
    "    for key, group in lot_frontage_by_neighborhood:\n",
    "        idx = (df[\"Neighborhood\"] == key) & (df[\"LotFrontage\"].isnull())\n",
    "        all_df.loc[idx, \"LotFrontage\"] = group.median()\n",
    "    \n",
    "    \n",
    "    # Label_Encoder()\n",
    "    all_df = factorize(df, all_df, \"MSSubClass\")\n",
    "    all_df = factorize(df, all_df, \"MSZoning\", \"RL\")\n",
    "    all_df = factorize(df, all_df, \"LotConfig\")\n",
    "    all_df = factorize(df, all_df, \"Neighborhood\")\n",
    "    all_df = factorize(df, all_df, \"Condition1\")\n",
    "    all_df = factorize(df, all_df, \"BldgType\")\n",
    "    all_df = factorize(df, all_df, \"HouseStyle\")\n",
    "    all_df = factorize(df, all_df, \"RoofStyle\")\n",
    "    all_df = factorize(df, all_df, \"Exterior1st\", \"Other\")\n",
    "    all_df = factorize(df, all_df, \"Exterior2nd\", \"Other\")\n",
    "    all_df = factorize(df, all_df, \"MasVnrType\", \"None\")\n",
    "    all_df = factorize(df, all_df, \"Foundation\")\n",
    "    all_df = factorize(df, all_df, \"SaleType\", \"Oth\")\n",
    "    all_df = factorize(df, all_df, \"SaleCondition\")\n",
    "    \n",
    "    \n",
    "    d =  {None : 0, 'A' : 1, 'C' : 2, 'FV' : 3, 'I': 4, 'RH' : 5,\n",
    "        'RL' : 6, \"RP\" : 7, 'RM' : 8}\n",
    "         \n",
    "    all_df[\"MSZoning\"] = df[\"MSZoning\"].map(d).fillna(0)\n",
    "        \n",
    "    qual_dict = {None: 0, \"Po\": 1, \"Fa\": 2, \"TA\": 3, \"Gd\": 4, \"Ex\": 5}\n",
    "    all_df[\"ExterQual\"] = df[\"ExterQual\"].map(qual_dict).astype(int)\n",
    "    all_df[\"ExterCond\"] = df[\"ExterCond\"].map(qual_dict).astype(int)\n",
    "    all_df[\"BsmtQual\"] = df[\"BsmtQual\"].map(qual_dict).astype(int)\n",
    "    all_df[\"BsmtCond\"] = df[\"BsmtCond\"].map(qual_dict).astype(int)\n",
    "    all_df[\"HeatingQC\"] = df[\"HeatingQC\"].map(qual_dict).astype(int)\n",
    "    all_df[\"KitchenQual\"] = df[\"KitchenQual\"].map(qual_dict).astype(int)\n",
    "    all_df[\"FireplaceQu\"] = df[\"FireplaceQu\"].map(qual_dict).astype(int)\n",
    "    all_df[\"GarageQual\"] = df[\"GarageQual\"].map(qual_dict).astype(int)\n",
    "    all_df[\"GarageCond\"] = df[\"GarageCond\"].map(qual_dict).astype(int)  \n",
    "    all_df[\"PoolQC\"] = df[\"PoolQC\"].map(qual_dict).astype(int)\n",
    "    \n",
    "    \n",
    "    all_df[\"BsmtExposure\"] = df[\"BsmtExposure\"].map(\n",
    "        {None: 0, \"No\": 1, \"Mn\": 2, \"Av\": 3, \"Gd\": 4}).astype(int)\n",
    "\n",
    "    bsmt_fin_dict = {None: 0, \"Unf\": 1, \"LwQ\": 2, \"Rec\": 3, \"BLQ\": 4, \"ALQ\": 5, \"GLQ\": 6}\n",
    "    \n",
    "    all_df[\"BsmtFinType1\"] = df[\"BsmtFinType1\"].map(bsmt_fin_dict).astype(int)\n",
    "    all_df[\"BsmtFinType2\"] = df[\"BsmtFinType2\"].map(bsmt_fin_dict).astype(int)\n",
    "\n",
    "    all_df[\"Functional\"] = df[\"Functional\"].map(\n",
    "        {None: 0, \"Sal\": 1, \"Sev\": 2, \"Maj2\": 3, \"Maj1\": 4, \n",
    "         \"Mod\": 5, \"Min2\": 6, \"Min1\": 7, \"Typ\": 8}).astype(int)\n",
    "\n",
    "    all_df[\"GarageFinish\"] = df[\"GarageFinish\"].map(\n",
    "        {None: 0, \"Unf\": 1, \"RFn\": 2, \"Fin\": 3}).astype(int)\n",
    "\n",
    "    all_df[\"Fence\"] = df[\"Fence\"].map(\n",
    "        {None: 0, \"MnWw\": 1, \"GdWo\": 2, \"MnPrv\": 3, \"GdPrv\": 4}).astype(int)\n",
    "\n",
    "    all_df[\"YearBuilt\"] = df[\"YearBuilt\"]\n",
    "    all_df[\"YearRemodAdd\"] = df[\"YearRemodAdd\"]\n",
    "\n",
    "    all_df[\"GarageYrBlt\"] = df[\"GarageYrBlt\"].fillna(0.0)\n",
    "\n",
    "    all_df[\"MoSold\"] = df[\"MoSold\"]\n",
    "    all_df[\"YrSold\"] = df[\"YrSold\"]\n",
    "    all_df[\"LowQualFinSF\"] = df[\"LowQualFinSF\"]\n",
    "    all_df[\"MiscVal\"] = df[\"MiscVal\"]\n",
    "\n",
    "\n",
    "    \n",
    "    # Теперь сгенерируем ещё различные признаки\n",
    "    # _______________________________________________________________________________\n",
    "    \n",
    "    neighborhood_map = {\n",
    "        'MeadowV' : 0,          #88000\n",
    "        'IDOTRR' : 1,           #103000\n",
    "        'BrDale' : 1,           #106000\n",
    "        'OldTown' : 1,          #119000\n",
    "        'Edwards' : 1,          #121750\n",
    "        'BrkSide' : 1,          #124300\n",
    "        'Sawyer' : 1,           #135000\n",
    "        'Blueste' : 1,          #137500\n",
    "        'SWISU' : 2,            #139500\n",
    "        'NAmes' : 2,            #140000\n",
    "        'NPkVill' : 2,          #146000\n",
    "        'Mitchel' : 2,          #153500\n",
    "        'SawyerW' : 2,          #179900\n",
    "        'Gilbert' : 2,          #181000\n",
    "        'NWAmes' : 2,           #182900\n",
    "        'Blmngtn' : 2,          #191000\n",
    "        'CollgCr' : 2,          #197200\n",
    "        'ClearCr' : 3,          #200250\n",
    "        'Crawfor' : 3,          #200624\n",
    "        'Veenker' : 3,          #218000\n",
    "        'Somerst' : 3,          #225500\n",
    "        'Timber' : 3,           #228475\n",
    "        'StoneBr' : 4,          #278000\n",
    "        'NoRidge' : 4,          #301500\n",
    "        'NridgHt' : 4          #315000\n",
    "    }\n",
    "\n",
    "    all_df[\"NeighborhoodBin\"] = df[\"Neighborhood\"].map(neighborhood_map).fillna(0)\n",
    "    \n",
    "    all_df[\"HighSeason\"] = df[\"MoSold\"].replace( \n",
    "        {1: 0, 2: 0, 3: 0, 4: 1, 5: 1, 6: 1, 7: 1, 8: 0, 9: 0, 10: 0, 11: 0, 12: 0})\n",
    "\n",
    "    all_df[\"NewerDwelling\"] = df[\"MSSubClass\"].replace(\n",
    "        {20: 1, 30: 0, 40: 0, 45: 0,50: 0, 60: 1, 70: 0, 75: 0, 80: 0, 85: 0,\n",
    "         90: 0, 120: 1, 150: 0, 160: 0, 180: 0, 190: 0})  \n",
    "        \n",
    "    good_neighborhood = ['NridgHt', 'Crawfor', 'StoneBr', 'Somerst', 'NoRidge', 'Timber', 'Veenker']\n",
    "    all_df[\"Neighborhood_Good\"] = df['Neighborhood'].apply(lambda x: 1 if x in good_neighborhood else 0)\n",
    "\n",
    "    all_df[\"SaleCondition_PriceDown\"] = df.SaleCondition.replace(\n",
    "        {'Abnorml': 1, 'Alloca': 1, 'AdjLand': 1, 'Family': 1, 'Normal': 0, 'Partial': 0})\n",
    "\n",
    "    # Закончено ли строительство дома перед продажей\n",
    "    \n",
    "    all_df[\"BoughtOffPlan\"] = df.SaleCondition.replace(\n",
    "        {\"Abnorml\" : 0, \"Alloca\" : 0, \"AdjLand\" : 0, \"Family\" : 0, \"Normal\" : 0, \"Partial\" : 1})\n",
    "    \n",
    "    # Отопление\n",
    "    all_df[\"BadHeating\"] = df.HeatingQC.replace(\n",
    "        {'Ex': 0, 'Gd': 0, 'TA': 0, 'Fa': 1, 'Po': 1})\n",
    "\n",
    "    area_cols = ['LotFrontage', 'LotArea', 'MasVnrArea', 'BsmtFinSF1', 'BsmtFinSF2', 'BsmtUnfSF',\n",
    "                 'TotalBsmtSF', '1stFlrSF', '2ndFlrSF', 'GrLivArea', 'GarageArea', 'WoodDeckSF', \n",
    "                 'OpenPorchSF', 'EnclosedPorch', '3SsnPorch', 'ScreenPorch', 'LowQualFinSF', 'PoolArea' ]\n",
    "    \n",
    "    all_df[\"TotalArea\"] = df[area_cols].sum(axis=1)\n",
    "    all_df[\"TotalArea1st2nd\"] = df[\"1stFlrSF\"] + df[\"2ndFlrSF\"]\n",
    "\n",
    "    all_df[\"Age\"] = 2010 - df[\"YearBuilt\"]\n",
    "    all_df[\"TimeSinceSold\"] = 2010 - df[\"YrSold\"]\n",
    "\n",
    "    all_df[\"SeasonSold\"] = df[\"MoSold\"].map({12:0, 1:0, 2:0, 3:1, 4:1, 5:1, \n",
    "                                                  6:2, 7:2, 8:2, 9:3, 10:3, 11:3}).astype(int)\n",
    "    \n",
    "    all_df['TotalSF'] = df['TotalBsmtSF'].fillna(0) + df['1stFlrSF'].fillna(0) + df['2ndFlrSF'].fillna(0)\n",
    "\n",
    "    all_df['Total_sqr_footage'] = (df['BsmtFinSF1'].fillna(0) + df['BsmtFinSF2'].fillna(0) +\n",
    "                                     df['1stFlrSF'].fillna(0) + df['2ndFlrSF'].fillna(0))\n",
    "\n",
    "    all_df['Total_Bathrooms'] = (df['FullBath'].fillna(0) + (0.5 * df['HalfBath'].fillna(0) ) +\n",
    "                                   df['BsmtFullBath'].fillna(0)  + (0.5 * df['BsmtHalfBath'].fillna(0) ))\n",
    "\n",
    "    all_df['Total_porch_sf'] = (df['OpenPorchSF'] + df['3SsnPorch'] +\n",
    "                                  df['EnclosedPorch'] + df['ScreenPorch'] +\n",
    "                                  df['WoodDeckSF'])\n",
    "    \n",
    "    \n",
    "    all_df[\"YearsSinceRemodel\"] = df[\"YrSold\"] - df[\"YearRemodAdd\"]\n",
    "    all_df[\"Has2ndFloor\"] = (df[\"2ndFlrSF\"] == 0) * 1\n",
    "    all_df[\"HasMasVnr\"] = (df[\"MasVnrArea\"] == 0) * 1\n",
    "    all_df[\"HasWoodDeck\"] = (df[\"WoodDeckSF\"] == 0) * 1\n",
    "    all_df[\"HasOpenPorch\"] = (df[\"OpenPorchSF\"] == 0) * 1\n",
    "    all_df[\"HasEnclosedPorch\"] = (df[\"EnclosedPorch\"] == 0) * 1\n",
    "    all_df[\"Has3SsnPorch\"] = (df[\"3SsnPorch\"] == 0) * 1\n",
    "    all_df[\"HasScreenPorch\"] = (df[\"ScreenPorch\"] == 0) * 1\n",
    "    all_df['haspool'] = df['PoolArea'].apply(lambda x: 1 if x > 0 else 0)\n",
    "    all_df['has2ndfloor'] = df['2ndFlrSF'].apply(lambda x: 1 if x > 0 else 0)\n",
    "    all_df['hasgarage'] = df['GarageArea'].apply(lambda x: 1 if x > 0 else 0)\n",
    "    all_df['hasbsmt'] = df['TotalBsmtSF'].apply(lambda x: 1 if x > 0 else 0)\n",
    "    all_df['hasfireplace'] = df['Fireplaces'].apply(lambda x: 1 if x > 0 else 0)\n",
    "    \n",
    "    \n",
    "    return all_df"
   ]
  },
  {
   "cell_type": "code",
   "execution_count": 225,
   "id": "4ab02f4a",
   "metadata": {
    "ExecuteTime": {
     "end_time": "2021-05-29T12:58:29.877934Z",
     "start_time": "2021-05-29T12:58:29.721896Z"
    }
   },
   "outputs": [],
   "source": [
    "train = generate_features(train_df)\n",
    "test = generate_features(test_df)"
   ]
  },
  {
   "cell_type": "code",
   "execution_count": 226,
   "id": "e4b2bba7",
   "metadata": {
    "ExecuteTime": {
     "end_time": "2021-05-29T12:58:29.893938Z",
     "start_time": "2021-05-29T12:58:29.878934Z"
    }
   },
   "outputs": [
    {
     "data": {
      "text/plain": [
       "Id\n",
       "1461    RH\n",
       "1462    RL\n",
       "1463    RL\n",
       "1464    RL\n",
       "1465    RL\n",
       "        ..\n",
       "2915    RM\n",
       "2916    RM\n",
       "2917    RL\n",
       "2918    RL\n",
       "2919    RL\n",
       "Name: MSZoning, Length: 1459, dtype: object"
      ]
     },
     "execution_count": 226,
     "metadata": {},
     "output_type": "execute_result"
    }
   ],
   "source": [
    "test_df[\"MSZoning\"]"
   ]
  },
  {
   "cell_type": "code",
   "execution_count": 227,
   "id": "d8a955d5",
   "metadata": {
    "ExecuteTime": {
     "end_time": "2021-05-29T12:58:29.909941Z",
     "start_time": "2021-05-29T12:58:29.894938Z"
    }
   },
   "outputs": [
    {
     "data": {
      "text/plain": [
       "(1456, 95)"
      ]
     },
     "execution_count": 227,
     "metadata": {},
     "output_type": "execute_result"
    }
   ],
   "source": [
    "train.shape"
   ]
  },
  {
   "cell_type": "code",
   "execution_count": 228,
   "id": "1499eaa9",
   "metadata": {
    "ExecuteTime": {
     "end_time": "2021-05-29T12:58:29.924945Z",
     "start_time": "2021-05-29T12:58:29.910942Z"
    }
   },
   "outputs": [
    {
     "data": {
      "text/plain": [
       "(1459, 95)"
      ]
     },
     "execution_count": 228,
     "metadata": {},
     "output_type": "execute_result"
    }
   ],
   "source": [
    "test.shape"
   ]
  },
  {
   "cell_type": "markdown",
   "id": "a2d30b98",
   "metadata": {},
   "source": [
    "Проведём массштабирование признаков."
   ]
  },
  {
   "cell_type": "code",
   "execution_count": 229,
   "id": "d6d6bc28",
   "metadata": {
    "ExecuteTime": {
     "end_time": "2021-05-29T12:58:29.940914Z",
     "start_time": "2021-05-29T12:58:29.925945Z"
    }
   },
   "outputs": [],
   "source": [
    "neighborhood_bin_train = pd.DataFrame(index = train.index)\n",
    "neighborhood_bin_train[\"NeighborhoodBin\"] = train[\"NeighborhoodBin\"]\n",
    "neighborhood_bin_test = pd.DataFrame(index = test.index)\n",
    "neighborhood_bin_test[\"NeighborhoodBin\"] = test[\"NeighborhoodBin\"]"
   ]
  },
  {
   "cell_type": "markdown",
   "id": "5a25ac5d",
   "metadata": {},
   "source": [
    "Вычимлим примерную ассиметрию данных для каждого признака. Заметно ассиметричные признаки прологорифмируем"
   ]
  },
  {
   "cell_type": "code",
   "execution_count": 230,
   "id": "6d028348",
   "metadata": {
    "ExecuteTime": {
     "end_time": "2021-05-29T12:58:29.956894Z",
     "start_time": "2021-05-29T12:58:29.941914Z"
    }
   },
   "outputs": [],
   "source": [
    "numeric_features = train.dtypes[train.dtypes != \"object\"].index"
   ]
  },
  {
   "cell_type": "markdown",
   "id": "d6234559",
   "metadata": {},
   "source": [
    "Бинарные признаки не нуждаются в масштабировании. Очистим от них численные данные."
   ]
  },
  {
   "cell_type": "code",
   "execution_count": 231,
   "id": "c97e945d",
   "metadata": {
    "ExecuteTime": {
     "end_time": "2021-05-29T12:58:30.002911Z",
     "start_time": "2021-05-29T12:58:29.957894Z"
    }
   },
   "outputs": [],
   "source": [
    "binary_columns = [c for c in numeric_features if train[c].nunique() == 2]\n",
    "numeric_features = [c for c in numeric_features if train[c].nunique() > 2]"
   ]
  },
  {
   "cell_type": "code",
   "execution_count": 232,
   "id": "4461dd78",
   "metadata": {
    "ExecuteTime": {
     "end_time": "2021-05-29T12:58:30.018381Z",
     "start_time": "2021-05-29T12:58:30.003911Z"
    }
   },
   "outputs": [
    {
     "data": {
      "text/plain": [
       "True"
      ]
     },
     "execution_count": 232,
     "metadata": {},
     "output_type": "execute_result"
    }
   ],
   "source": [
    "len(binary_columns) + len(numeric_features) == train.shape[1]"
   ]
  },
  {
   "cell_type": "code",
   "execution_count": 233,
   "id": "291446bc",
   "metadata": {
    "ExecuteTime": {
     "end_time": "2021-05-29T12:58:30.050388Z",
     "start_time": "2021-05-29T12:58:30.019381Z"
    }
   },
   "outputs": [],
   "source": [
    "skewed = train[numeric_features].apply(lambda x: skew(x.dropna().astype(float)))"
   ]
  },
  {
   "cell_type": "code",
   "execution_count": 234,
   "id": "529a52da",
   "metadata": {
    "ExecuteTime": {
     "end_time": "2021-05-29T12:58:30.066124Z",
     "start_time": "2021-05-29T12:58:30.051389Z"
    }
   },
   "outputs": [],
   "source": [
    "skewed = skewed[abs(skewed) > 0.75]\n",
    "skewed = skewed.index"
   ]
  },
  {
   "cell_type": "code",
   "execution_count": 235,
   "id": "217a11f2",
   "metadata": {
    "ExecuteTime": {
     "end_time": "2021-05-29T12:58:30.097984Z",
     "start_time": "2021-05-29T12:58:30.067124Z"
    }
   },
   "outputs": [],
   "source": [
    "train[skewed] = np.log1p(train[skewed])\n",
    "test[skewed] = np.log1p(test[skewed])"
   ]
  },
  {
   "cell_type": "markdown",
   "id": "9403f65b",
   "metadata": {},
   "source": [
    "Теперь, после того как мы сгладили ассиметрию в распределении применим StandartScaller"
   ]
  },
  {
   "cell_type": "code",
   "execution_count": 236,
   "id": "f1cdf8d0",
   "metadata": {
    "ExecuteTime": {
     "end_time": "2021-05-29T12:58:30.129147Z",
     "start_time": "2021-05-29T12:58:30.098985Z"
    }
   },
   "outputs": [],
   "source": [
    "scaler = StandardScaler()\n",
    "scaler.fit(train[numeric_features])\n",
    "\n",
    "scaled = scaler.transform(train[numeric_features])\n",
    "for i, col in enumerate(numeric_features):\n",
    "    train[col] = scaled[:, i]\n",
    "\n",
    "scaled = scaler.transform(test[numeric_features])\n",
    "for i, col in enumerate(numeric_features):\n",
    "    test[col] = scaled[:, i]"
   ]
  },
  {
   "cell_type": "markdown",
   "id": "2f2f0c78",
   "metadata": {},
   "source": [
    "One-hot encoding "
   ]
  },
  {
   "cell_type": "code",
   "execution_count": 237,
   "id": "1a3dc292",
   "metadata": {
    "ExecuteTime": {
     "end_time": "2021-05-29T12:58:30.145152Z",
     "start_time": "2021-05-29T12:58:30.130148Z"
    }
   },
   "outputs": [],
   "source": [
    "def generate_one_hot(df):\n",
    "    onehot_df = pd.DataFrame(index = df.index)\n",
    "\n",
    "    onehot_df = onehot(onehot_df, df, \"MSSubClass\", None, \"40\")\n",
    "    onehot_df = onehot(onehot_df, df, \"MSZoning\", \"RL\", \"RH\")\n",
    "    onehot_df = onehot(onehot_df, df, \"LotConfig\", None, \"FR3\")\n",
    "    onehot_df = onehot(onehot_df, df, \"Neighborhood\", None, \"OldTown\")\n",
    "    onehot_df = onehot(onehot_df, df, \"Condition1\", None, \"RRNe\")\n",
    "    onehot_df = onehot(onehot_df, df, \"BldgType\", None, \"2fmCon\")\n",
    "    onehot_df = onehot(onehot_df, df, \"HouseStyle\", None, \"1.5Unf\")\n",
    "    onehot_df = onehot(onehot_df, df, \"RoofStyle\", None, \"Shed\")\n",
    "    onehot_df = onehot(onehot_df, df, \"Exterior1st\", \"VinylSd\", \"CBlock\")\n",
    "    onehot_df = onehot(onehot_df, df, \"Exterior2nd\", \"VinylSd\", \"CBlock\")\n",
    "    onehot_df = onehot(onehot_df, df, \"Foundation\", None, \"Wood\")\n",
    "    onehot_df = onehot(onehot_df, df, \"SaleType\", \"WD\", \"Oth\")\n",
    "    onehot_df = onehot(onehot_df, df, \"SaleCondition\", \"Normal\", \"AdjLand\")\n",
    "\n",
    " \n",
    "    temp_df = df[[\"MasVnrType\", \"MasVnrArea\"]].copy()\n",
    "    idx = (df[\"MasVnrArea\"] != 0) & ((df[\"MasVnrType\"] == \"None\") | (df[\"MasVnrType\"].isnull()))\n",
    "    temp_df.loc[idx, \"MasVnrType\"] = \"BrkFace\"\n",
    "    onehot_df = onehot(onehot_df, temp_df, \"MasVnrType\", \"None\", \"BrkCmn\")\n",
    "\n",
    "  \n",
    "    onehot_df = onehot(onehot_df, df, \"LotShape\", None, \"IR3\")\n",
    "    onehot_df = onehot(onehot_df, df, \"LandContour\", None, \"Low\")\n",
    "    onehot_df = onehot(onehot_df, df, \"LandSlope\", None, \"Sev\")\n",
    "    onehot_df = onehot(onehot_df, df, \"Electrical\", \"SBrkr\", \"FuseP\")\n",
    "    onehot_df = onehot(onehot_df, df, \"GarageType\", \"None\", \"CarPort\")\n",
    "    onehot_df = onehot(onehot_df, df, \"PavedDrive\", None, \"P\")\n",
    "    onehot_df = onehot(onehot_df, df, \"MiscFeature\", \"None\", \"Othr\")\n",
    "\n",
    " \n",
    "    onehot_df = onehot(onehot_df, df, \"Street\", None, \"Grvl\")\n",
    "    onehot_df = onehot(onehot_df, df, \"Alley\", \"None\", \"Grvl\")\n",
    "    onehot_df = onehot(onehot_df, df, \"Condition2\", None, \"PosA\")\n",
    "    onehot_df = onehot(onehot_df, df, \"RoofMatl\", None, \"WdShake\")\n",
    "    onehot_df = onehot(onehot_df, df, \"Heating\", None, \"Wall\")\n",
    "\n",
    "\n",
    "    onehot_df = onehot(onehot_df, df, \"ExterQual\", \"None\", \"Ex\")\n",
    "    onehot_df = onehot(onehot_df, df, \"ExterCond\", \"None\", \"Ex\")\n",
    "    onehot_df = onehot(onehot_df, df, \"BsmtQual\", \"None\", \"Ex\")\n",
    "    onehot_df = onehot(onehot_df, df, \"BsmtCond\", \"None\", \"Ex\")\n",
    "    onehot_df = onehot(onehot_df, df, \"HeatingQC\", \"None\", \"Ex\")\n",
    "    onehot_df = onehot(onehot_df, df, \"KitchenQual\", \"TA\", \"Ex\")\n",
    "    onehot_df = onehot(onehot_df, df, \"FireplaceQu\", \"None\", \"Ex\")\n",
    "    onehot_df = onehot(onehot_df, df, \"GarageQual\", \"None\", \"Ex\")\n",
    "    onehot_df = onehot(onehot_df, df, \"GarageCond\", \"None\", \"Ex\")\n",
    "    onehot_df = onehot(onehot_df, df, \"PoolQC\", \"None\", \"Ex\")\n",
    "    onehot_df = onehot(onehot_df, df, \"BsmtExposure\", \"None\", \"Gd\")\n",
    "    onehot_df = onehot(onehot_df, df, \"BsmtFinType1\", \"None\", \"GLQ\")\n",
    "    onehot_df = onehot(onehot_df, df, \"BsmtFinType2\", \"None\", \"GLQ\")\n",
    "    onehot_df = onehot(onehot_df, df, \"Functional\", \"Typ\", \"Typ\")\n",
    "    onehot_df = onehot(onehot_df, df, \"GarageFinish\", \"None\", \"Fin\")\n",
    "    onehot_df = onehot(onehot_df, df, \"Fence\", \"None\", \"MnPrv\")\n",
    "    onehot_df = onehot(onehot_df, df, \"MoSold\", None, None)\n",
    "    \n",
    "    # Разобьём время с 1871 года по 2010 на отрезки по 20 лет\n",
    "    year_map = pd.concat(pd.Series(\"YearBin\" + str(i+1), index=range(1871+i*20,1891+i*20)) for i in range(0, 7))\n",
    "\n",
    "    yearbin_df = pd.DataFrame(index = df.index)\n",
    "    yearbin_df[\"GarageYrBltBin\"] = df.GarageYrBlt.map(year_map)\n",
    "    yearbin_df[\"GarageYrBltBin\"].fillna(\"NoGarage\", inplace=True)\n",
    "\n",
    "    yearbin_df[\"YearBuiltBin\"] = df.YearBuilt.map(year_map)\n",
    "    yearbin_df[\"YearRemodAddBin\"] = df.YearRemodAdd.map(year_map)\n",
    "    \n",
    "    onehot_df = onehot(onehot_df, yearbin_df, \"GarageYrBltBin\", None, None)\n",
    "    onehot_df = onehot(onehot_df, yearbin_df, \"YearBuiltBin\", None, None)\n",
    "    onehot_df = onehot(onehot_df, yearbin_df, \"YearRemodAddBin\", None, None)\n",
    "\n",
    "    return onehot_df"
   ]
  },
  {
   "cell_type": "code",
   "execution_count": 238,
   "id": "52bfacd3",
   "metadata": {
    "ExecuteTime": {
     "end_time": "2021-05-29T12:58:30.321192Z",
     "start_time": "2021-05-29T12:58:30.146152Z"
    }
   },
   "outputs": [],
   "source": [
    "train_one_hot = generate_one_hot(train_df)\n",
    "test_one_hot = generate_one_hot(test_df)"
   ]
  },
  {
   "cell_type": "code",
   "execution_count": 239,
   "id": "00ef962c",
   "metadata": {
    "ExecuteTime": {
     "end_time": "2021-05-29T12:58:30.337202Z",
     "start_time": "2021-05-29T12:58:30.322191Z"
    }
   },
   "outputs": [
    {
     "data": {
      "text/plain": [
       "(1456, 306)"
      ]
     },
     "execution_count": 239,
     "metadata": {},
     "output_type": "execute_result"
    }
   ],
   "source": [
    "train_one_hot.shape"
   ]
  },
  {
   "cell_type": "code",
   "execution_count": 240,
   "id": "bc9a4bd7",
   "metadata": {
    "ExecuteTime": {
     "end_time": "2021-05-29T12:58:30.352716Z",
     "start_time": "2021-05-29T12:58:30.338202Z"
    }
   },
   "outputs": [
    {
     "data": {
      "text/plain": [
       "(1459, 291)"
      ]
     },
     "execution_count": 240,
     "metadata": {},
     "output_type": "execute_result"
    }
   ],
   "source": [
    "test_one_hot.shape"
   ]
  },
  {
   "cell_type": "markdown",
   "id": "de618202",
   "metadata": {},
   "source": [
    "Значения некоторых признаков присутствуют только в тренировочной выборке"
   ]
  },
  {
   "cell_type": "code",
   "execution_count": 241,
   "id": "0f1c7fb8",
   "metadata": {
    "ExecuteTime": {
     "end_time": "2021-05-29T12:58:30.368626Z",
     "start_time": "2021-05-29T12:58:30.353716Z"
    }
   },
   "outputs": [],
   "source": [
    "drop_cols = [c for c in train_one_hot.columns if c not in test_one_hot.columns]"
   ]
  },
  {
   "cell_type": "code",
   "execution_count": 242,
   "id": "b33264ca",
   "metadata": {
    "ExecuteTime": {
     "end_time": "2021-05-29T12:58:30.384064Z",
     "start_time": "2021-05-29T12:58:30.369626Z"
    }
   },
   "outputs": [
    {
     "data": {
      "text/plain": [
       "['_HouseStyle_2.5Fin',\n",
       " '_Exterior1st_ImStucc',\n",
       " '_Exterior1st_Stone',\n",
       " '_Exterior2nd_Other',\n",
       " '_Electrical_Mix',\n",
       " '_MiscFeature_TenC',\n",
       " '_Condition2_RRAe',\n",
       " '_Condition2_RRAn',\n",
       " '_Condition2_RRNn',\n",
       " '_RoofMatl_Membran',\n",
       " '_RoofMatl_Metal',\n",
       " '_RoofMatl_Roll',\n",
       " '_Heating_Floor',\n",
       " '_Heating_OthW',\n",
       " '_GarageQual_Ex',\n",
       " '_PoolQC_Fa']"
      ]
     },
     "execution_count": 242,
     "metadata": {},
     "output_type": "execute_result"
    }
   ],
   "source": [
    "drop_cols"
   ]
  },
  {
   "cell_type": "code",
   "execution_count": 243,
   "id": "2d0ca673",
   "metadata": {
    "ExecuteTime": {
     "end_time": "2021-05-29T12:58:30.400054Z",
     "start_time": "2021-05-29T12:58:30.385064Z"
    }
   },
   "outputs": [],
   "source": [
    "train_one_hot.drop(drop_cols, axis=1, inplace=True)"
   ]
  },
  {
   "cell_type": "markdown",
   "id": "339b6175",
   "metadata": {},
   "source": [
    "Проверим себя"
   ]
  },
  {
   "cell_type": "code",
   "execution_count": 244,
   "id": "17b2475c",
   "metadata": {
    "ExecuteTime": {
     "end_time": "2021-05-29T12:58:30.416140Z",
     "start_time": "2021-05-29T12:58:30.401054Z"
    }
   },
   "outputs": [
    {
     "data": {
      "text/plain": [
       "['_MSSubClass_150']"
      ]
     },
     "execution_count": 244,
     "metadata": {},
     "output_type": "execute_result"
    }
   ],
   "source": [
    "[c for c in test_one_hot.columns if c not in train_one_hot.columns]"
   ]
  },
  {
   "cell_type": "code",
   "execution_count": 245,
   "id": "b0af55a3",
   "metadata": {
    "ExecuteTime": {
     "end_time": "2021-05-29T12:58:30.431991Z",
     "start_time": "2021-05-29T12:58:30.417140Z"
    }
   },
   "outputs": [],
   "source": [
    "test_one_hot.drop('_MSSubClass_150', axis=1, inplace=True)"
   ]
  },
  {
   "cell_type": "code",
   "execution_count": 246,
   "id": "781db740",
   "metadata": {
    "ExecuteTime": {
     "end_time": "2021-05-29T12:58:30.448092Z",
     "start_time": "2021-05-29T12:58:30.432991Z"
    }
   },
   "outputs": [
    {
     "data": {
      "text/plain": [
       "(1456, 290)"
      ]
     },
     "execution_count": 246,
     "metadata": {},
     "output_type": "execute_result"
    }
   ],
   "source": [
    "train_one_hot.shape"
   ]
  },
  {
   "cell_type": "code",
   "execution_count": 247,
   "id": "f26a4abf",
   "metadata": {
    "ExecuteTime": {
     "end_time": "2021-05-29T12:58:30.464096Z",
     "start_time": "2021-05-29T12:58:30.449092Z"
    }
   },
   "outputs": [
    {
     "data": {
      "text/plain": [
       "(1459, 290)"
      ]
     },
     "execution_count": 247,
     "metadata": {},
     "output_type": "execute_result"
    }
   ],
   "source": [
    "test_one_hot.shape"
   ]
  },
  {
   "cell_type": "code",
   "execution_count": 248,
   "id": "a72bebc2",
   "metadata": {
    "ExecuteTime": {
     "end_time": "2021-05-29T12:58:30.480102Z",
     "start_time": "2021-05-29T12:58:30.465096Z"
    }
   },
   "outputs": [
    {
     "data": {
      "text/plain": [
       "_Exterior2nd_CBlock      1\n",
       "_Condition2_PosN         1\n",
       "_Functional_Sev          1\n",
       "_Condition2_PosA         1\n",
       "_ExterCond_Po            1\n",
       "_HeatingQC_Po            1\n",
       "_Exterior1st_AsphShn     1\n",
       "_PoolQC_Ex               1\n",
       "_Exterior1st_CBlock      1\n",
       "_Exterior1st_BrkComm     2\n",
       "_Condition1_RRNe         2\n",
       "_Condition2_Artery       2\n",
       "_GarageCond_Ex           2\n",
       "_MiscFeature_Othr        2\n",
       "_Neighborhood_Blueste    2\n",
       "_PoolQC_Gd               2\n",
       "_RoofStyle_Shed          2\n",
       "_SaleType_Con            2\n",
       "_BsmtCond_Po             2\n",
       "_MiscFeature_Gar2        2\n",
       "dtype: int64"
      ]
     },
     "execution_count": 248,
     "metadata": {},
     "output_type": "execute_result"
    }
   ],
   "source": [
    "train_one_hot \\\n",
    ".sum() \\\n",
    ".sort_values()[:20]"
   ]
  },
  {
   "cell_type": "markdown",
   "id": "7b28171b",
   "metadata": {},
   "source": [
    "Отфильтруем признаки с низкой информативностью"
   ]
  },
  {
   "cell_type": "code",
   "execution_count": 249,
   "id": "9c9e2d58",
   "metadata": {
    "ExecuteTime": {
     "end_time": "2021-05-29T12:58:30.495288Z",
     "start_time": "2021-05-29T12:58:30.481102Z"
    }
   },
   "outputs": [],
   "source": [
    "mask = (train_one_hot.sum().sort_values() < 9)\n",
    "drop_cols = train_one_hot \\\n",
    ".sum() \\\n",
    ".sort_values()[mask].index"
   ]
  },
  {
   "cell_type": "code",
   "execution_count": 250,
   "id": "aeb11fbd",
   "metadata": {
    "ExecuteTime": {
     "end_time": "2021-05-29T12:58:30.511294Z",
     "start_time": "2021-05-29T12:58:30.496287Z"
    }
   },
   "outputs": [],
   "source": [
    "train_one_hot.drop(drop_cols, axis = 1, inplace = True)\n",
    "test_one_hot.drop(drop_cols, axis = 1, inplace = True)"
   ]
  },
  {
   "cell_type": "code",
   "execution_count": 251,
   "id": "338c28aa",
   "metadata": {
    "ExecuteTime": {
     "end_time": "2021-05-29T12:58:30.527252Z",
     "start_time": "2021-05-29T12:58:30.512295Z"
    }
   },
   "outputs": [
    {
     "data": {
      "text/plain": [
       "_PoolQC_None               3\n",
       "_Street_Pave               6\n",
       "_Heating_GasA             13\n",
       "_Condition2_Norm          15\n",
       "_RoofMatl_CompShg         17\n",
       "                        ... \n",
       "_Exterior2nd_ImStucc    1454\n",
       "_HouseStyle_1.5Unf      1454\n",
       "_Functional_Maj1        1454\n",
       "_LandSlope_Sev          1456\n",
       "_Fence_MnWw             1458\n",
       "Length: 242, dtype: int64"
      ]
     },
     "execution_count": 251,
     "metadata": {},
     "output_type": "execute_result"
    }
   ],
   "source": [
    "(test_one_hot.shape[0]-test_one_hot.sum()).sort_values()"
   ]
  },
  {
   "cell_type": "code",
   "execution_count": 252,
   "id": "d0898198",
   "metadata": {
    "ExecuteTime": {
     "end_time": "2021-05-29T12:58:30.542758Z",
     "start_time": "2021-05-29T12:58:30.528252Z"
    }
   },
   "outputs": [],
   "source": [
    "train = train.join(train_one_hot)\n",
    "test = test.join(test_one_hot)"
   ]
  },
  {
   "cell_type": "code",
   "execution_count": 253,
   "id": "9c85c426",
   "metadata": {
    "ExecuteTime": {
     "end_time": "2021-05-29T12:58:30.557986Z",
     "start_time": "2021-05-29T12:58:30.543758Z"
    }
   },
   "outputs": [],
   "source": [
    "label_log = pd.DataFrame(index = train_df.index, columns=[\"SalePrice\"])\n",
    "label_log[\"SalePrice\"] = np.log(train_df[\"SalePrice\"])"
   ]
  },
  {
   "cell_type": "code",
   "execution_count": 254,
   "id": "d2a9bb4c",
   "metadata": {
    "ExecuteTime": {
     "end_time": "2021-05-29T12:58:30.573409Z",
     "start_time": "2021-05-29T12:58:30.558985Z"
    }
   },
   "outputs": [],
   "source": [
    "label = pd.DataFrame(index = train_df.index, columns=[\"SalePrice\"])\n",
    "label[\"SalePrice\"] = train_df[\"SalePrice\"]"
   ]
  },
  {
   "cell_type": "code",
   "execution_count": 255,
   "id": "65ca76a2",
   "metadata": {
    "ExecuteTime": {
     "end_time": "2021-05-29T12:58:30.685078Z",
     "start_time": "2021-05-29T12:58:30.574410Z"
    }
   },
   "outputs": [],
   "source": [
    "train.to_parquet('data/train.parquet')\n",
    "test.to_parquet('data/test.parquet')\n",
    "label.to_parquet('data/label.parquet')"
   ]
  },
  {
   "cell_type": "code",
   "execution_count": 256,
   "id": "cafa8383",
   "metadata": {
    "ExecuteTime": {
     "end_time": "2021-05-29T12:58:30.700388Z",
     "start_time": "2021-05-29T12:58:30.686078Z"
    }
   },
   "outputs": [
    {
     "data": {
      "text/plain": [
       "(1456, 337)"
      ]
     },
     "execution_count": 256,
     "metadata": {},
     "output_type": "execute_result"
    }
   ],
   "source": [
    "train.shape"
   ]
  },
  {
   "cell_type": "code",
   "execution_count": null,
   "id": "de46a9fa",
   "metadata": {},
   "outputs": [],
   "source": []
  }
 ],
 "metadata": {
  "kernelspec": {
   "display_name": "Python 3",
   "language": "python",
   "name": "python3"
  },
  "language_info": {
   "codemirror_mode": {
    "name": "ipython",
    "version": 3
   },
   "file_extension": ".py",
   "mimetype": "text/x-python",
   "name": "python",
   "nbconvert_exporter": "python",
   "pygments_lexer": "ipython3",
   "version": "3.8.3"
  },
  "toc": {
   "base_numbering": 1,
   "nav_menu": {},
   "number_sections": true,
   "sideBar": true,
   "skip_h1_title": false,
   "title_cell": "Table of Contents",
   "title_sidebar": "Contents",
   "toc_cell": false,
   "toc_position": {},
   "toc_section_display": true,
   "toc_window_display": false
  }
 },
 "nbformat": 4,
 "nbformat_minor": 5
}
