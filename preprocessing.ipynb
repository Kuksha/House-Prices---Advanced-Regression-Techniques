{
 "cells": [
  {
   "cell_type": "markdown",
   "id": "ff73f273",
   "metadata": {},
   "source": [
    "####   Загрузка данных"
   ]
  },
  {
   "cell_type": "code",
   "execution_count": 1,
   "id": "79eb37ac",
   "metadata": {
    "ExecuteTime": {
     "end_time": "2021-05-18T18:35:56.169343Z",
     "start_time": "2021-05-18T18:35:55.069221Z"
    }
   },
   "outputs": [],
   "source": [
    "import numpy as np \n",
    "import pandas as pd \n",
    "from matplotlib import pyplot as plt\n",
    "import seaborn as sns"
   ]
  },
  {
   "cell_type": "code",
   "execution_count": 2,
   "id": "ccf5b273",
   "metadata": {
    "ExecuteTime": {
     "end_time": "2021-05-18T18:36:03.213401Z",
     "start_time": "2021-05-18T18:36:03.108873Z"
    }
   },
   "outputs": [],
   "source": [
    "from sklearn.metrics import mean_squared_error\n",
    "def rmse(y_true, y_pred):\n",
    "    return np.sqrt(mean_squared_error(y_true, y_pred))"
   ]
  },
  {
   "cell_type": "code",
   "execution_count": 3,
   "id": "0b9fb5bf",
   "metadata": {
    "ExecuteTime": {
     "end_time": "2021-05-18T18:36:10.531880Z",
     "start_time": "2021-05-18T18:36:10.485869Z"
    }
   },
   "outputs": [],
   "source": [
    "train_df = pd.read_csv(\"data/train.csv\", index_col = \"Id\")\n",
    "test_df = pd.read_csv('data/test.csv', index_col = \"Id\")"
   ]
  },
  {
   "cell_type": "markdown",
   "id": "2bcfaf93",
   "metadata": {},
   "source": [
    "Приведём пропуски данных к единому виду"
   ]
  },
  {
   "cell_type": "code",
   "execution_count": null,
   "id": "c78d6412",
   "metadata": {},
   "outputs": [],
   "source": [
    "for c in train_df.columns:\n",
    "    train_df[c] = train_df[c].apply(lambda x: None if x is np.nan else x)"
   ]
  },
  {
   "cell_type": "code",
   "execution_count": null,
   "id": "186b3365",
   "metadata": {},
   "outputs": [],
   "source": []
  },
  {
   "cell_type": "code",
   "execution_count": null,
   "id": "92aa6d1a",
   "metadata": {},
   "outputs": [],
   "source": []
  },
  {
   "cell_type": "code",
   "execution_count": null,
   "id": "78550a5b",
   "metadata": {},
   "outputs": [],
   "source": []
  },
  {
   "cell_type": "code",
   "execution_count": null,
   "id": "218dd3b0",
   "metadata": {},
   "outputs": [],
   "source": []
  },
  {
   "cell_type": "code",
   "execution_count": null,
   "id": "060ec6d3",
   "metadata": {},
   "outputs": [],
   "source": []
  }
 ],
 "metadata": {
  "kernelspec": {
   "display_name": "Python 3",
   "language": "python",
   "name": "python3"
  },
  "language_info": {
   "codemirror_mode": {
    "name": "ipython",
    "version": 3
   },
   "file_extension": ".py",
   "mimetype": "text/x-python",
   "name": "python",
   "nbconvert_exporter": "python",
   "pygments_lexer": "ipython3",
   "version": "3.8.3"
  },
  "toc": {
   "base_numbering": 1,
   "nav_menu": {},
   "number_sections": true,
   "sideBar": true,
   "skip_h1_title": false,
   "title_cell": "Table of Contents",
   "title_sidebar": "Contents",
   "toc_cell": false,
   "toc_position": {},
   "toc_section_display": true,
   "toc_window_display": false
  }
 },
 "nbformat": 4,
 "nbformat_minor": 5
}
